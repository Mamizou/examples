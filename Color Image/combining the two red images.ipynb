{
 "cells": [
  {
   "cell_type": "code",
   "execution_count": 38,
   "metadata": {},
   "outputs": [],
   "source": [
    "from astropy import units as u\n",
    "from astropy.nddata import CCDData\n",
    "from ccdproc import Combiner, ImageFileCollection\n",
    "from ccdproc import wcs_project\n",
    "import numpy as np\n",
    "import matplotlib.pyplot as plt"
   ]
  },
  {
   "cell_type": "code",
   "execution_count": 18,
   "metadata": {
    "scrolled": false
   },
   "outputs": [
    {
     "data": {
      "text/plain": [
       "['bubble-nebula-0001B300.fit',\n",
       " 'bubble-nebula-0001g300.fit',\n",
       " 'bubble-nebula-0001r300.fit',\n",
       " 'bubble-nebula-0001r600.fit']"
      ]
     },
     "execution_count": 18,
     "metadata": {},
     "output_type": "execute_result"
    }
   ],
   "source": [
    "data_path = '.'\n",
    "data_collection = ImageFileCollection(data_path)\n",
    "data_collection.summary['file']\n",
    "bubbles = [f for f in data_collection.summary['file'] if f.startswith('bubble')]\n",
    "bubbles"
   ]
  },
  {
   "cell_type": "code",
   "execution_count": 28,
   "metadata": {},
   "outputs": [],
   "source": [
    "for lights in data_collection.ccds(exposure=300, filter='r'):\n",
    "    ccd = lights\n",
    "    \n",
    "for lights_2 in data_collection.ccds(exposure=600, filter='r'):\n",
    "    ccd_2 = lights"
   ]
  },
  {
   "cell_type": "code",
   "execution_count": 39,
   "metadata": {},
   "outputs": [
    {
     "name": "stderr",
     "output_type": "stream",
     "text": [
      "C:\\Anaconda3\\envs\\ast366\\lib\\site-packages\\astropy\\wcs\\wcs.py:2723: RuntimeWarning: cdelt will be ignored since cd is present\n",
      "  description.append(s.format(*self.wcs.cdelt))\n"
     ]
    }
   ],
   "source": [
    "reprojected = []\n",
    "for img in [ccd, ccd_2]:\n",
    "    new_image = wcs_project(img, ccd.wcs)\n",
    "    reprojected.append(new_image)"
   ]
  },
  {
   "cell_type": "code",
   "execution_count": 40,
   "metadata": {},
   "outputs": [],
   "source": [
    "combiner = Combiner(reprojected)\n",
    "stacked_image = combiner.average_combine()\n"
   ]
  },
  {
   "cell_type": "code",
   "execution_count": 42,
   "metadata": {},
   "outputs": [],
   "source": [
    "stacked_image.write('bubble-nebula-0001r.fit')"
   ]
  },
  {
   "cell_type": "code",
   "execution_count": 29,
   "metadata": {
    "scrolled": false
   },
   "outputs": [],
   "source": [
    "combiner = Combiner([ccd, ccd_2])"
   ]
  },
  {
   "cell_type": "code",
   "execution_count": 34,
   "metadata": {
    "scrolled": true
   },
   "outputs": [],
   "source": [
    "scaling_func = lambda arr: 1/np.ma.average(arr)\n",
    "combiner.scaling = scaling_func\n",
    "combine_average = combiner.average_combine()\n",
    "combine_average.write('bubble-nebula-0001r.fit')"
   ]
  },
  {
   "cell_type": "code",
   "execution_count": 43,
   "metadata": {},
   "outputs": [],
   "source": [
    "Combiner.average_combine?"
   ]
  }
 ],
 "metadata": {
  "kernelspec": {
   "display_name": "Python 3",
   "language": "python",
   "name": "python3"
  },
  "language_info": {
   "codemirror_mode": {
    "name": "ipython",
    "version": 3
   },
   "file_extension": ".py",
   "mimetype": "text/x-python",
   "name": "python",
   "nbconvert_exporter": "python",
   "pygments_lexer": "ipython3",
   "version": "3.6.5"
  }
 },
 "nbformat": 4,
 "nbformat_minor": 2
}
